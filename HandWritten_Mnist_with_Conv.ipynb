{
  "nbformat": 4,
  "nbformat_minor": 0,
  "metadata": {
    "colab": {
      "name": "HandWritten Mnist with Conv.ipynb",
      "version": "0.3.2",
      "provenance": []
    },
    "kernelspec": {
      "name": "python3",
      "display_name": "Python 3"
    }
  },
  "cells": [
    {
      "metadata": {
        "id": "YMILLugb3e9l",
        "colab_type": "code",
        "colab": {
          "base_uri": "https://localhost:8080/",
          "height": 440
        },
        "outputId": "b9eb4b58-b802-49a3-dfd4-f363007fa302"
      },
      "cell_type": "code",
      "source": [
        "import tensorflow as tf\n",
        "\n",
        "class myCallback(tf.keras.callbacks.Callback):\n",
        "  def on_epoch_end(self, epoch, logs = {}):\n",
        "    if(logs.get('acc') > 0.998):\n",
        "      print(\"model reached 99.8% acc....STOPING!\")\n",
        "      self.model.stop_training = True\n",
        "      \n",
        "callbacks = myCallback()\n",
        "\n",
        "\n",
        "mnist = tf.keras.datasets.mnist\n",
        "(training_images, training_labels), (test_images, test_labels) = mnist.load_data()\n",
        "\n",
        "training_images =training_images.reshape(60000, 28, 28, 1)\n",
        "training_images=training_images / 255.0\n",
        "test_images = test_images.reshape(10000, 28, 28, 1)\n",
        "test_images=test_images/255.0\n",
        "\n",
        "model = tf.keras.models.Sequential([\n",
        "  tf.keras.layers.Conv2D(32, (3,3), activation='relu', input_shape=(28, 28, 1)),\n",
        "  tf.keras.layers.MaxPooling2D(2, 2),\n",
        "  tf.keras.layers.Flatten(),\n",
        "  tf.keras.layers.Dense(128, activation='relu'),\n",
        "  tf.keras.layers.Dense(10, activation='softmax')\n",
        "])\n",
        "\n",
        "model.compile(optimizer='adam', loss='sparse_categorical_crossentropy', metrics=['accuracy'])\n",
        "model.fit(training_images, training_labels, epochs=10, callbacks = [callbacks])\n",
        "test_loss, test_acc = model.evaluate(test_images, test_labels)\n",
        "print(test_acc)\n",
        "\n"
      ],
      "execution_count": 1,
      "outputs": [
        {
          "output_type": "stream",
          "text": [
            "Downloading data from https://storage.googleapis.com/tensorflow/tf-keras-datasets/mnist.npz\n",
            "11493376/11490434 [==============================] - 0s 0us/step\n",
            "WARNING:tensorflow:From /usr/local/lib/python3.6/dist-packages/tensorflow/python/ops/resource_variable_ops.py:435: colocate_with (from tensorflow.python.framework.ops) is deprecated and will be removed in a future version.\n",
            "Instructions for updating:\n",
            "Colocations handled automatically by placer.\n",
            "Epoch 1/10\n",
            "60000/60000 [==============================] - 53s 876us/sample - loss: 0.1461 - acc: 0.9563\n",
            "Epoch 2/10\n",
            "60000/60000 [==============================] - 52s 858us/sample - loss: 0.0501 - acc: 0.9850\n",
            "Epoch 3/10\n",
            "60000/60000 [==============================] - 51s 855us/sample - loss: 0.0317 - acc: 0.9896\n",
            "Epoch 4/10\n",
            "60000/60000 [==============================] - 51s 851us/sample - loss: 0.0202 - acc: 0.9938\n",
            "Epoch 5/10\n",
            "60000/60000 [==============================] - 51s 853us/sample - loss: 0.0143 - acc: 0.9954\n",
            "Epoch 6/10\n",
            "60000/60000 [==============================] - 51s 858us/sample - loss: 0.0097 - acc: 0.9967\n",
            "Epoch 7/10\n",
            "60000/60000 [==============================] - 52s 862us/sample - loss: 0.0075 - acc: 0.9974\n",
            "Epoch 8/10\n",
            "59936/60000 [============================>.] - ETA: 0s - loss: 0.0056 - acc: 0.9981model reached 99.8% acc....STOPING!\n",
            "60000/60000 [==============================] - 51s 850us/sample - loss: 0.0056 - acc: 0.9981\n",
            "10000/10000 [==============================] - 3s 254us/sample - loss: 0.0474 - acc: 0.9866\n",
            "0.9866\n"
          ],
          "name": "stdout"
        }
      ]
    },
    {
      "metadata": {
        "id": "8EzBVsgg3lme",
        "colab_type": "code",
        "colab": {}
      },
      "cell_type": "code",
      "source": [
        ""
      ],
      "execution_count": 0,
      "outputs": []
    }
  ]
}